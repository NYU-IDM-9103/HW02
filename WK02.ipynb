{
  "cells": [
    {
      "cell_type": "markdown",
      "metadata": {
        "id": "Ty-DVrJlaN1T"
      },
      "source": [
        "# Week 02"
      ]
    },
    {
      "cell_type": "markdown",
      "metadata": {},
      "source": [
        "## Citing open-source / found code\n",
        "\n",
        "Sometimes the citation will be part of the code. Whenever you use the `import` command, I'll know the code is coming form somewhere else and it's easy to figure out where."
      ]
    },
    {
      "cell_type": "code",
      "execution_count": 1,
      "metadata": {},
      "outputs": [
        {
          "ename": "ModuleNotFoundError",
          "evalue": "No module named 'matplotlib'",
          "output_type": "error",
          "traceback": [
            "\u001b[0;31m---------------------------------------------------------------------------\u001b[0m",
            "\u001b[0;31mModuleNotFoundError\u001b[0m                       Traceback (most recent call last)",
            "Cell \u001b[0;32mIn[1], line 1\u001b[0m\n\u001b[0;32m----> 1\u001b[0m \u001b[38;5;28;01mimport\u001b[39;00m \u001b[38;5;21;01mmatplotlib\u001b[39;00m\u001b[38;5;21;01m.\u001b[39;00m\u001b[38;5;21;01mpyplot\u001b[39;00m \u001b[38;5;28;01mas\u001b[39;00m \u001b[38;5;21;01mplt\u001b[39;00m\n\u001b[1;32m      2\u001b[0m \u001b[38;5;28;01mimport\u001b[39;00m \u001b[38;5;21;01mnumpy\u001b[39;00m \u001b[38;5;28;01mas\u001b[39;00m \u001b[38;5;21;01mnp\u001b[39;00m\n\u001b[1;32m      4\u001b[0m plt\u001b[38;5;241m.\u001b[39mplot(np\u001b[38;5;241m.\u001b[39msin(np\u001b[38;5;241m.\u001b[39marange(\u001b[38;5;241m0\u001b[39m, \u001b[38;5;241m4\u001b[39m \u001b[38;5;241m*\u001b[39m np\u001b[38;5;241m.\u001b[39mpi, \u001b[38;5;241m.1\u001b[39m)))\n",
            "\u001b[0;31mModuleNotFoundError\u001b[0m: No module named 'matplotlib'"
          ]
        }
      ],
      "source": [
        "import matplotlib.pyplot as plt\n",
        "import numpy as np\n",
        "\n",
        "plt.plot(np.sin(np.arange(0, 4 * np.pi, .1)))\n",
        "plt.plot(np.cos(np.arange(0, 4 * np.pi, .1)), c='r')\n",
        "plt.show()"
      ]
    },
    {
      "cell_type": "markdown",
      "metadata": {},
      "source": [
        "Other times the citation will have to be a little more explicit.\n",
        "\n",
        "A link to the original code, repo, or stackoverflow answer is enough."
      ]
    },
    {
      "cell_type": "code",
      "execution_count": null,
      "metadata": {},
      "outputs": [],
      "source": [
        "import cv2\n",
        "from scipy import fftpack\n",
        "from imagehash import ImageHash\n",
        "\n",
        "# Function for computing the perceptual hash of an image\n",
        "# Based on code from the vframe project:\n",
        "#   https://github.com/vframeio/vframe/blob/master/src/vframe/utils/im_utils.py#L37-L48\n",
        "# which is based on code from the imagehash library:\n",
        "#   https://github.com/JohannesBuchner/imagehash/blob/master/imagehash.py#L197\n",
        "\n",
        "def phash(im, hash_size=8, highfreq_factor=4):\n",
        "  wh = hash_size * highfreq_factor\n",
        "  im = cv2.resize(im, (wh, wh), interpolation=cv2.INTER_NEAREST)\n",
        "  if len(im.shape) > 2 and im.shape[2] > 1:\n",
        "    im = cv2.cvtColor(im, cv2.COLOR_BGR2GRAY)\n",
        "  mdct = fftpack.dct(fftpack.dct(im, axis=0), axis=1)\n",
        "  dctlowfreq = mdct[:hash_size, :hash_size]\n",
        "  med = np.median(dctlowfreq)\n",
        "  diff = dctlowfreq > med\n",
        "  return ImageHash(diff)"
      ]
    },
    {
      "cell_type": "markdown",
      "metadata": {
        "id": "s-e8uvrIca09"
      },
      "source": [
        "Ok, back to Week 02\n",
        "\n",
        "## Setup\n",
        "\n",
        "Let's import some helper functions and libraries"
      ]
    },
    {
      "cell_type": "code",
      "execution_count": 1,
      "metadata": {
        "id": "uHIQDMJ-WTei"
      },
      "outputs": [],
      "source": [
        "import random"
      ]
    },
    {
      "cell_type": "markdown",
      "metadata": {},
      "source": [
        "## Ranges\n",
        "\n",
        "<img src=\"./imgs/range.jpg\" width=\"500px\" />\n",
        "\n",
        "Range of integers between 0 and 10:"
      ]
    },
    {
      "cell_type": "code",
      "execution_count": 2,
      "metadata": {},
      "outputs": [
        {
          "data": {
            "text/plain": [
              "[0, 1, 2, 3, 4, 5, 6, 7, 8, 9]"
            ]
          },
          "execution_count": 2,
          "metadata": {},
          "output_type": "execute_result"
        }
      ],
      "source": [
        "range(0, 10)\n",
        "\n",
        "# TODO: take a look at the range values\n",
        "list(range(0,10))"
      ]
    },
    {
      "cell_type": "markdown",
      "metadata": {},
      "source": [
        "Range of integers between 0 and 100 skipping by 10s:"
      ]
    },
    {
      "cell_type": "code",
      "execution_count": 3,
      "metadata": {},
      "outputs": [
        {
          "data": {
            "text/plain": [
              "[0, 10, 20, 30, 40, 50, 60, 70, 80, 90]"
            ]
          },
          "execution_count": 3,
          "metadata": {},
          "output_type": "execute_result"
        }
      ],
      "source": [
        "range(0, 100, 10)\n",
        "\n",
        "# TODO: take a look at the range values\n",
        "list(range(0, 100, 10))"
      ]
    },
    {
      "cell_type": "markdown",
      "metadata": {},
      "source": [
        "## Lists\n",
        "### Creating lists from sequences of numbers\n",
        "#### Create a list with all the numbers between 0 and 1000 that end in 91"
      ]
    },
    {
      "cell_type": "code",
      "execution_count": 8,
      "metadata": {},
      "outputs": [
        {
          "name": "stdout",
          "output_type": "stream",
          "text": [
            "[91, 191, 291, 391, 491, 591, 691, 791, 891, 991]\n",
            "[91, 191, 291, 391, 491, 591, 691, 791, 891, 991]\n"
          ]
        },
        {
          "data": {
            "text/plain": [
              "[91, 191, 291, 391, 491, 591, 691, 791, 891, 991]"
            ]
          },
          "execution_count": 8,
          "metadata": {},
          "output_type": "execute_result"
        }
      ],
      "source": [
        "list_x91 = []\n",
        "\n",
        "# TODO: for loop\n",
        "for i in range(91,1000,100):\n",
        "    list_x91.append(i)\n",
        "print(list_x91)\n",
        "\n",
        "# TODO: comprehension\n",
        "list_x91 = [i for i in range(91,1000,100)]\n",
        "print(list_x91)\n",
        "\n",
        "# TODO: casting\n",
        "list_x91 = list(range(91,1000,100))\n",
        "list_x91"
      ]
    },
    {
      "cell_type": "markdown",
      "metadata": {},
      "source": [
        "### List indexing\n",
        "\n",
        "Indexing from the front is normal:"
      ]
    },
    {
      "cell_type": "code",
      "execution_count": 9,
      "metadata": {},
      "outputs": [
        {
          "data": {
            "text/plain": [
              "([91, 191, 291, 391, 491, 591, 691, 791, 891, 991], 91, 291, 891)"
            ]
          },
          "execution_count": 9,
          "metadata": {},
          "output_type": "execute_result"
        }
      ],
      "source": [
        "list_x91, list_x91[0], list_x91[2], list_x91[8]"
      ]
    },
    {
      "cell_type": "markdown",
      "metadata": {},
      "source": [
        "But, Python also lets us index from the back with negative numbers:"
      ]
    },
    {
      "cell_type": "code",
      "execution_count": 10,
      "metadata": {},
      "outputs": [
        {
          "data": {
            "text/plain": [
              "(991, 891, 291)"
            ]
          },
          "execution_count": 10,
          "metadata": {},
          "output_type": "execute_result"
        }
      ],
      "source": [
        "list_x91[-1], list_x91[-2], list_x91[-8]"
      ]
    },
    {
      "cell_type": "markdown",
      "metadata": {},
      "source": [
        "### Create a list with 100 number 2's"
      ]
    },
    {
      "cell_type": "code",
      "execution_count": 31,
      "metadata": {},
      "outputs": [
        {
          "data": {
            "text/plain": [
              "[2,\n",
              " 2,\n",
              " 2,\n",
              " 2,\n",
              " 2,\n",
              " 2,\n",
              " 2,\n",
              " 2,\n",
              " 2,\n",
              " 2,\n",
              " 2,\n",
              " 2,\n",
              " 2,\n",
              " 2,\n",
              " 2,\n",
              " 2,\n",
              " 2,\n",
              " 2,\n",
              " 2,\n",
              " 2,\n",
              " 2,\n",
              " 2,\n",
              " 2,\n",
              " 2,\n",
              " 2,\n",
              " 2,\n",
              " 2,\n",
              " 2,\n",
              " 2,\n",
              " 2,\n",
              " 2,\n",
              " 2,\n",
              " 2,\n",
              " 2,\n",
              " 2,\n",
              " 2,\n",
              " 2,\n",
              " 2,\n",
              " 2,\n",
              " 2,\n",
              " 2,\n",
              " 2,\n",
              " 2,\n",
              " 2,\n",
              " 2,\n",
              " 2,\n",
              " 2,\n",
              " 2,\n",
              " 2,\n",
              " 2,\n",
              " 2,\n",
              " 2,\n",
              " 2,\n",
              " 2,\n",
              " 2,\n",
              " 2,\n",
              " 2,\n",
              " 2,\n",
              " 2,\n",
              " 2,\n",
              " 2,\n",
              " 2,\n",
              " 2,\n",
              " 2,\n",
              " 2,\n",
              " 2,\n",
              " 2,\n",
              " 2,\n",
              " 2,\n",
              " 2,\n",
              " 2,\n",
              " 2,\n",
              " 2,\n",
              " 2,\n",
              " 2,\n",
              " 2,\n",
              " 2,\n",
              " 2,\n",
              " 2,\n",
              " 2,\n",
              " 2,\n",
              " 2,\n",
              " 2,\n",
              " 2,\n",
              " 2,\n",
              " 2,\n",
              " 2,\n",
              " 2,\n",
              " 2,\n",
              " 2,\n",
              " 2,\n",
              " 2,\n",
              " 2,\n",
              " 2,\n",
              " 2,\n",
              " 2,\n",
              " 2,\n",
              " 2,\n",
              " 2,\n",
              " 2]"
            ]
          },
          "execution_count": 31,
          "metadata": {},
          "output_type": "execute_result"
        }
      ],
      "source": [
        "list_100_2 = []\n",
        "# TODO\n",
        "list_100_2 = [2] * 100\n",
        "list_100_2"
      ]
    },
    {
      "cell_type": "markdown",
      "metadata": {},
      "source": [
        "### Create list of numbers between 0 and 100 that are divisible by 7:"
      ]
    },
    {
      "cell_type": "code",
      "execution_count": 11,
      "metadata": {},
      "outputs": [
        {
          "data": {
            "text/plain": [
              "[0, 7, 14, 21, 28, 35, 42, 49, 56, 63, 70, 77, 84, 91, 98]"
            ]
          },
          "execution_count": 11,
          "metadata": {},
          "output_type": "execute_result"
        }
      ],
      "source": [
        "# TODO: probably easier using comprehension\n",
        "list_100_7 = [i for i in range(0,101) if i % 7 == 0 ]\n",
        "list_100_7"
      ]
    },
    {
      "cell_type": "markdown",
      "metadata": {},
      "source": [
        "### List functions\n",
        "\n",
        "Members of each `list` object.\n",
        "\n",
        "<img src=\"./imgs/lists00.jpg\" width=\"500px\" />"
      ]
    },
    {
      "cell_type": "markdown",
      "metadata": {
        "id": "hBs429yN9wYE"
      },
      "source": [
        "### Create a list of 10 random numbers between 0 and 100"
      ]
    },
    {
      "cell_type": "code",
      "execution_count": 25,
      "metadata": {
        "id": "36_m35zIyN2h"
      },
      "outputs": [
        {
          "data": {
            "text/plain": [
              "[48, 72, 33, 13, 33, 15, 45, 91, 85, 86]"
            ]
          },
          "execution_count": 25,
          "metadata": {},
          "output_type": "execute_result"
        }
      ],
      "source": [
        "list_of_randoms = []\n",
        "\n",
        "# TODO: with for loop and append\n",
        "for i in range(10):\n",
        "    list_of_randoms.append(random.randint(0,100))\n",
        "list_of_randoms"
      ]
    },
    {
      "cell_type": "markdown",
      "metadata": {
        "id": "7Aw4WiDS92MU"
      },
      "source": [
        "### Print the numbers and their index"
      ]
    },
    {
      "cell_type": "code",
      "execution_count": 30,
      "metadata": {
        "id": "h3ochjQlzQ4e"
      },
      "outputs": [
        {
          "name": "stdout",
          "output_type": "stream",
          "text": [
            "0 48\n",
            "1 72\n",
            "2 33\n",
            "3 13\n",
            "4 33\n",
            "5 15\n",
            "6 45\n",
            "7 91\n",
            "8 85\n",
            "9 86\n",
            "0 48\n",
            "1 72\n",
            "2 33\n",
            "3 13\n",
            "4 33\n",
            "5 15\n",
            "6 45\n",
            "7 91\n",
            "8 85\n",
            "9 86\n"
          ]
        }
      ],
      "source": [
        "# TODO: with len\n",
        "for i in range(len(list_of_randoms)):\n",
        "    print(i,list_of_randoms[i])\n",
        "\n",
        "# TODO: with enumerate\n",
        "for i,j in enumerate(list_of_randoms):\n",
        "    print(i,j)"
      ]
    },
    {
      "cell_type": "markdown",
      "metadata": {
        "id": "5_-v7iTl955Q"
      },
      "source": [
        "### Create a list of 100 random numbers between 0 and 1000"
      ]
    },
    {
      "cell_type": "code",
      "execution_count": 5,
      "metadata": {
        "id": "5fYaP253u7yB"
      },
      "outputs": [
        {
          "data": {
            "text/plain": [
              "[62,\n",
              " 675,\n",
              " 263,\n",
              " 25,\n",
              " 79,\n",
              " 452,\n",
              " 863,\n",
              " 365,\n",
              " 817,\n",
              " 64,\n",
              " 349,\n",
              " 647,\n",
              " 381,\n",
              " 488,\n",
              " 136,\n",
              " 677,\n",
              " 578,\n",
              " 396,\n",
              " 502,\n",
              " 842,\n",
              " 551,\n",
              " 446,\n",
              " 174,\n",
              " 159,\n",
              " 769,\n",
              " 993,\n",
              " 149,\n",
              " 586,\n",
              " 760,\n",
              " 286,\n",
              " 987,\n",
              " 446,\n",
              " 109,\n",
              " 431,\n",
              " 595,\n",
              " 180,\n",
              " 888,\n",
              " 498,\n",
              " 832,\n",
              " 293,\n",
              " 258,\n",
              " 484,\n",
              " 570,\n",
              " 703,\n",
              " 166,\n",
              " 135,\n",
              " 266,\n",
              " 498,\n",
              " 210,\n",
              " 532,\n",
              " 800,\n",
              " 536,\n",
              " 50,\n",
              " 743,\n",
              " 880,\n",
              " 134,\n",
              " 772,\n",
              " 320,\n",
              " 89,\n",
              " 97,\n",
              " 904,\n",
              " 543,\n",
              " 965,\n",
              " 701,\n",
              " 616,\n",
              " 199,\n",
              " 272,\n",
              " 4,\n",
              " 683,\n",
              " 395,\n",
              " 433,\n",
              " 777,\n",
              " 717,\n",
              " 305,\n",
              " 834,\n",
              " 932,\n",
              " 246,\n",
              " 565,\n",
              " 968,\n",
              " 745,\n",
              " 906,\n",
              " 659,\n",
              " 148,\n",
              " 191,\n",
              " 70,\n",
              " 130,\n",
              " 716,\n",
              " 351,\n",
              " 533,\n",
              " 121,\n",
              " 924,\n",
              " 902,\n",
              " 979,\n",
              " 719,\n",
              " 888,\n",
              " 241,\n",
              " 46,\n",
              " 916,\n",
              " 662,\n",
              " 829]"
            ]
          },
          "execution_count": 5,
          "metadata": {},
          "output_type": "execute_result"
        }
      ],
      "source": [
        "# TODO: with for loop\n",
        "list_of_randoms = []\n",
        "for i in range(100):\n",
        "    list_of_randoms.append(random.randint(0,1000))\n",
        "list_of_randoms\n",
        "\n",
        "# TODO: with comprehension\n",
        "list_of_randoms_c = [random.randint(0, 1000) for _ in range(100)]  \n",
        "list_of_randoms_c"
      ]
    },
    {
      "cell_type": "markdown",
      "metadata": {
        "id": "d6HZ54wJ-GzP"
      },
      "source": [
        "### Create a list with random length\n",
        "\n",
        "A list of random length, with random numbers between 0 and 1000.\n"
      ]
    },
    {
      "cell_type": "code",
      "execution_count": 3,
      "metadata": {
        "id": "0kBHR8Ao-AOM"
      },
      "outputs": [
        {
          "data": {
            "text/plain": [
              "16"
            ]
          },
          "execution_count": 3,
          "metadata": {},
          "output_type": "execute_result"
        }
      ],
      "source": [
        "num_elements = random.randint(1,100) # TODO: random len\n",
        "list_of_randoms = []\n",
        "\n",
        "# TODO: list\n",
        "list_of_randoms = [random.randint(0, 1000) for _ in range(num_elements)] \n",
        "len(list_of_randoms)"
      ]
    },
    {
      "cell_type": "markdown",
      "metadata": {},
      "source": [
        "### Addition\n",
        "\n",
        "Besides the `append()` function we can also add elements to a list by using the `+` operator to *concatenate* two lists.\n",
        "\n",
        "And just like addition on numbers we have to assign the result to a variable in order to use it later:"
      ]
    },
    {
      "cell_type": "code",
      "execution_count": 6,
      "metadata": {},
      "outputs": [],
      "source": [
        "big_list_of_randoms = list_of_randoms + list_of_randoms_c\n",
        "\n",
        "# Or, with the +=\n",
        "list_of_randoms += list_of_randoms_c"
      ]
    },
    {
      "cell_type": "markdown",
      "metadata": {
        "id": "XfMx81LP-b_h"
      },
      "source": [
        "### Find the largest element on a list\n",
        "\n",
        "Go through all of the elements and compare each element to the largest number seen so far.\n",
        "\n",
        "Update the `largest` variable if we encounter a larger number."
      ]
    },
    {
      "cell_type": "code",
      "execution_count": 7,
      "metadata": {
        "id": "J7eLIAnwxODF"
      },
      "outputs": [
        {
          "data": {
            "text/plain": [
              "993"
            ]
          },
          "execution_count": 7,
          "metadata": {},
          "output_type": "execute_result"
        }
      ],
      "source": [
        "largest = list_of_randoms[0]\n",
        "\n",
        "# TODO: find max\n",
        "for i in range(len(list_of_randoms)):\n",
        "    if list_of_randoms[i] > largest:\n",
        "        largest = list_of_randoms[i]\n",
        "largest"
      ]
    },
    {
      "cell_type": "markdown",
      "metadata": {
        "id": "OQoQSbbC-7Gg"
      },
      "source": [
        "### Find the smallest element on a list\n",
        "\n",
        "Go through all of the elements and compare each element to the smallest number seen so far.\n",
        "\n",
        "Update the `smallest` variable if we encounter a smaller number."
      ]
    },
    {
      "cell_type": "code",
      "execution_count": 8,
      "metadata": {
        "id": "5OSOQAVc3s3X"
      },
      "outputs": [
        {
          "data": {
            "text/plain": [
              "0"
            ]
          },
          "execution_count": 8,
          "metadata": {},
          "output_type": "execute_result"
        }
      ],
      "source": [
        "smallest = list_of_randoms[0]\n",
        "\n",
        "# TODO: find min\n",
        "for i in range(len(list_of_randoms)):\n",
        "    if list_of_randoms[i] < smallest:\n",
        "        smallest = list_of_randoms[i]\n",
        "smallest"
      ]
    },
    {
      "cell_type": "markdown",
      "metadata": {
        "id": "rFL_vZuR_A2Z"
      },
      "source": [
        "### Find the sum of all elements on a list\n",
        "\n",
        "Go through all of the elements and add their values to an accumulator variable."
      ]
    },
    {
      "cell_type": "code",
      "execution_count": 9,
      "metadata": {
        "id": "g4FjyViC4T_p"
      },
      "outputs": [
        {
          "data": {
            "text/plain": [
              "104216"
            ]
          },
          "execution_count": 9,
          "metadata": {},
          "output_type": "execute_result"
        }
      ],
      "source": [
        "my_sum = 0\n",
        "\n",
        "# TODO: find sum\n",
        "for i in list_of_randoms:\n",
        "    my_sum += i\n",
        "my_sum"
      ]
    },
    {
      "cell_type": "markdown",
      "metadata": {
        "id": "VlI-SzPa_Ja4"
      },
      "source": [
        "### Python has built in functions for doing these things"
      ]
    },
    {
      "cell_type": "code",
      "execution_count": 10,
      "metadata": {
        "id": "ruGHhgm05p_t"
      },
      "outputs": [
        {
          "name": "stdout",
          "output_type": "stream",
          "text": [
            "0 993 104216\n"
          ]
        }
      ],
      "source": [
        "print(min(list_of_randoms), max(list_of_randoms), sum(list_of_randoms))"
      ]
    },
    {
      "cell_type": "markdown",
      "metadata": {},
      "source": [
        "### Find the 5 largest and 5 smallest numbers on a list\n",
        "\n",
        "# 🤔"
      ]
    },
    {
      "cell_type": "markdown",
      "metadata": {
        "id": "8sYq0tQj6z0e"
      },
      "source": [
        "### Python has a function for sorting a list that could help"
      ]
    },
    {
      "cell_type": "code",
      "execution_count": 11,
      "metadata": {
        "id": "DJlfGTZZ6SJt"
      },
      "outputs": [
        {
          "name": "stdout",
          "output_type": "stream",
          "text": [
            "[885, 899, 847, 781, 752, 577, 265, 327, 768, 211, 623, 274, 635, 860, 501, 732, 413, 942, 365, 323, 975, 766, 691, 867, 88, 654, 954, 812, 719, 751, 794, 637, 835, 700, 512, 196, 146, 801, 325, 905, 880, 92, 618, 828, 251, 749, 170, 325, 807, 82, 884, 445, 0, 350, 364, 120, 756, 302, 729, 243, 626, 238, 306, 901, 481, 149, 198, 119, 701, 852, 815, 409, 666, 525, 830, 368, 820, 132, 610, 593, 190, 214, 992, 547, 337, 605, 363, 422, 619, 198, 988, 118, 682, 257, 72, 591, 794, 952, 580, 482, 62, 675, 263, 25, 79, 452, 863, 365, 817, 64, 349, 647, 381, 488, 136, 677, 578, 396, 502, 842, 551, 446, 174, 159, 769, 993, 149, 586, 760, 286, 987, 446, 109, 431, 595, 180, 888, 498, 832, 293, 258, 484, 570, 703, 166, 135, 266, 498, 210, 532, 800, 536, 50, 743, 880, 134, 772, 320, 89, 97, 904, 543, 965, 701, 616, 199, 272, 4, 683, 395, 433, 777, 717, 305, 834, 932, 246, 565, 968, 745, 906, 659, 148, 191, 70, 130, 716, 351, 533, 121, 924, 902, 979, 719, 888, 241, 46, 916, 662, 829]\n",
            "[0, 4, 25, 46, 50, 62, 64, 70, 72, 79, 82, 88, 89, 92, 97, 109, 118, 119, 120, 121, 130, 132, 134, 135, 136, 146, 148, 149, 149, 159, 166, 170, 174, 180, 190, 191, 196, 198, 198, 199, 210, 211, 214, 238, 241, 243, 246, 251, 257, 258, 263, 265, 266, 272, 274, 286, 293, 302, 305, 306, 320, 323, 325, 325, 327, 337, 349, 350, 351, 363, 364, 365, 365, 368, 381, 395, 396, 409, 413, 422, 431, 433, 445, 446, 446, 452, 481, 482, 484, 488, 498, 498, 501, 502, 512, 525, 532, 533, 536, 543, 547, 551, 565, 570, 577, 578, 580, 586, 591, 593, 595, 605, 610, 616, 618, 619, 623, 626, 635, 637, 647, 654, 659, 662, 666, 675, 677, 682, 683, 691, 700, 701, 701, 703, 716, 717, 719, 719, 729, 732, 743, 745, 749, 751, 752, 756, 760, 766, 768, 769, 772, 777, 781, 794, 794, 800, 801, 807, 812, 815, 817, 820, 828, 829, 830, 832, 834, 835, 842, 847, 852, 860, 863, 867, 880, 880, 884, 885, 888, 888, 899, 901, 902, 904, 905, 906, 916, 924, 932, 942, 952, 954, 965, 968, 975, 979, 987, 988, 992, 993]\n"
          ]
        }
      ],
      "source": [
        "my_sorted_list = sorted(list_of_randoms)\n",
        "\n",
        "print(list_of_randoms)\n",
        "print(my_sorted_list)"
      ]
    },
    {
      "cell_type": "markdown",
      "metadata": {},
      "source": [
        "### Functions on lists\n",
        "\n",
        "These are functions that Python gives us to work on lists.\n",
        "\n",
        "There are functions for sorting, reversing and getting the length of a `list`:\n",
        "\n",
        "<img src=\"./imgs/lists01.jpg\" width=\"600px\" />\n",
        "\n",
        "#### Reverse sorting:"
      ]
    },
    {
      "cell_type": "code",
      "execution_count": 12,
      "metadata": {},
      "outputs": [
        {
          "name": "stdout",
          "output_type": "stream",
          "text": [
            "[885, 899, 847, 781, 752, 577, 265, 327, 768, 211, 623, 274, 635, 860, 501, 732, 413, 942, 365, 323, 975, 766, 691, 867, 88, 654, 954, 812, 719, 751, 794, 637, 835, 700, 512, 196, 146, 801, 325, 905, 880, 92, 618, 828, 251, 749, 170, 325, 807, 82, 884, 445, 0, 350, 364, 120, 756, 302, 729, 243, 626, 238, 306, 901, 481, 149, 198, 119, 701, 852, 815, 409, 666, 525, 830, 368, 820, 132, 610, 593, 190, 214, 992, 547, 337, 605, 363, 422, 619, 198, 988, 118, 682, 257, 72, 591, 794, 952, 580, 482, 62, 675, 263, 25, 79, 452, 863, 365, 817, 64, 349, 647, 381, 488, 136, 677, 578, 396, 502, 842, 551, 446, 174, 159, 769, 993, 149, 586, 760, 286, 987, 446, 109, 431, 595, 180, 888, 498, 832, 293, 258, 484, 570, 703, 166, 135, 266, 498, 210, 532, 800, 536, 50, 743, 880, 134, 772, 320, 89, 97, 904, 543, 965, 701, 616, 199, 272, 4, 683, 395, 433, 777, 717, 305, 834, 932, 246, 565, 968, 745, 906, 659, 148, 191, 70, 130, 716, 351, 533, 121, 924, 902, 979, 719, 888, 241, 46, 916, 662, 829]\n",
            "[0, 4, 25, 46, 50, 62, 64, 70, 72, 79, 82, 88, 89, 92, 97, 109, 118, 119, 120, 121, 130, 132, 134, 135, 136, 146, 148, 149, 149, 159, 166, 170, 174, 180, 190, 191, 196, 198, 198, 199, 210, 211, 214, 238, 241, 243, 246, 251, 257, 258, 263, 265, 266, 272, 274, 286, 293, 302, 305, 306, 320, 323, 325, 325, 327, 337, 349, 350, 351, 363, 364, 365, 365, 368, 381, 395, 396, 409, 413, 422, 431, 433, 445, 446, 446, 452, 481, 482, 484, 488, 498, 498, 501, 502, 512, 525, 532, 533, 536, 543, 547, 551, 565, 570, 577, 578, 580, 586, 591, 593, 595, 605, 610, 616, 618, 619, 623, 626, 635, 637, 647, 654, 659, 662, 666, 675, 677, 682, 683, 691, 700, 701, 701, 703, 716, 717, 719, 719, 729, 732, 743, 745, 749, 751, 752, 756, 760, 766, 768, 769, 772, 777, 781, 794, 794, 800, 801, 807, 812, 815, 817, 820, 828, 829, 830, 832, 834, 835, 842, 847, 852, 860, 863, 867, 880, 880, 884, 885, 888, 888, 899, 901, 902, 904, 905, 906, 916, 924, 932, 942, 952, 954, 965, 968, 975, 979, 987, 988, 992, 993]\n",
            "[]\n"
          ]
        }
      ],
      "source": [
        "my_reversed_sorted_list = [] # TODO\n",
        "\n",
        "print(list_of_randoms)\n",
        "print(my_sorted_list)\n",
        "print(my_reversed_sorted_list)"
      ]
    },
    {
      "cell_type": "markdown",
      "metadata": {
        "id": "zIJjJ8rx_W8s"
      },
      "source": [
        "### With a sorted list we can more easily print the 5 smallest and 5 largest elements\n"
      ]
    },
    {
      "cell_type": "code",
      "execution_count": 13,
      "metadata": {
        "id": "ytoCAy4p_dCZ"
      },
      "outputs": [
        {
          "name": "stdout",
          "output_type": "stream",
          "text": [
            "[0, 4, 25, 46, 50] [979, 987, 988, 992, 993]\n"
          ]
        }
      ],
      "source": [
        "print(my_sorted_list[ :5], my_sorted_list[-5: ])"
      ]
    },
    {
      "cell_type": "markdown",
      "metadata": {},
      "source": [
        "### :W:T:F:?:\n",
        "\n",
        "### Slicing\n",
        "\n",
        "Python has a built-in mechanism for getting sub-sections of a list called *slicing*.\n",
        "\n",
        "Instead of a single index, we specify two values in the square bracket, separated by a `:`, to specify where our slice starts and ends:\n",
        "\n",
        "<img src=\"./imgs/slicing.jpg\" width=\"700px\" />\n",
        "\n",
        "One **VERY** important thing to remember is that the second index in the bracket is **NOT** included in the slice."
      ]
    },
    {
      "cell_type": "code",
      "execution_count": 14,
      "metadata": {},
      "outputs": [
        {
          "data": {
            "text/plain": [
              "([0, 10, 12, 10, 8, 5, 8, 1, 8, 7, 9, 6, 12, 4, 9, 9, 6, 0, 0, 11],\n",
              " [0, 10, 12, 10, 8])"
            ]
          },
          "execution_count": 14,
          "metadata": {},
          "output_type": "execute_result"
        }
      ],
      "source": [
        "my_list = [random.randint(0, 12) for i in range(0, 20)]\n",
        "my_list, my_list[0 : 5]"
      ]
    },
    {
      "cell_type": "markdown",
      "metadata": {},
      "source": [
        "As another example:  \n",
        "`my_list[4 : 10]` would be used to access $6$ elements starting at position $4$, so ...\n",
        "<br>elements $4$ - $9$ on the list. The second index in the slice, $10$, is not included."
      ]
    },
    {
      "cell_type": "code",
      "execution_count": 15,
      "metadata": {},
      "outputs": [
        {
          "data": {
            "text/plain": [
              "[8, 5, 8, 1, 8, 7]"
            ]
          },
          "execution_count": 15,
          "metadata": {},
          "output_type": "execute_result"
        }
      ],
      "source": [
        "my_list[4 : 10]"
      ]
    },
    {
      "cell_type": "markdown",
      "metadata": {},
      "source": [
        "And, Python being Python, it tries to be smart and keep us from unnecessary typing:\n",
        "- if the first index is blank, the slice will start at the first element \n",
        "- if the second index is blank, the slice will go until the end of the list"
      ]
    },
    {
      "cell_type": "code",
      "execution_count": 16,
      "metadata": {},
      "outputs": [
        {
          "data": {
            "text/plain": [
              "([0, 10, 12, 10, 8, 5, 8, 1, 8, 7, 9, 6, 12, 4, 9, 9, 6, 0, 0, 11],\n",
              " [0, 10, 12, 10, 8],\n",
              " [0, 10, 12, 10, 8])"
            ]
          },
          "execution_count": 16,
          "metadata": {},
          "output_type": "execute_result"
        }
      ],
      "source": [
        "my_list, my_list[0 : 5], my_list[ :5]"
      ]
    },
    {
      "cell_type": "code",
      "execution_count": 17,
      "metadata": {},
      "outputs": [
        {
          "data": {
            "text/plain": [
              "([9, 6, 0, 0, 11], [9, 6, 0, 0, 11])"
            ]
          },
          "execution_count": 17,
          "metadata": {},
          "output_type": "execute_result"
        }
      ],
      "source": [
        "my_list[15 : 20], my_list[15: ]"
      ]
    },
    {
      "cell_type": "markdown",
      "metadata": {},
      "source": [
        "We can use negative indexes to slice from the back:\n",
        "\n",
        "`a_list[-5 : len(a_list)]` would grab the last 5 elements from the list `my_list`,\n",
        "<br>but this can be simplified with `a_list[-5: ]`."
      ]
    },
    {
      "cell_type": "code",
      "execution_count": 18,
      "metadata": {},
      "outputs": [
        {
          "data": {
            "text/plain": [
              "([9, 6, 0, 0, 11], [9, 6, 0, 0, 11])"
            ]
          },
          "execution_count": 18,
          "metadata": {},
          "output_type": "execute_result"
        }
      ],
      "source": [
        "my_list[-5 : len(my_list)], my_list[-5: ]"
      ]
    },
    {
      "cell_type": "markdown",
      "metadata": {},
      "source": [
        "### How would we get the 5 items in the center?"
      ]
    },
    {
      "cell_type": "code",
      "execution_count": 45,
      "metadata": {},
      "outputs": [
        {
          "data": {
            "text/plain": [
              "[]"
            ]
          },
          "execution_count": 45,
          "metadata": {},
          "output_type": "execute_result"
        }
      ],
      "source": [
        "center_index = 0 # TODO\n",
        "center_5 = [] # TODO: center items\n",
        "center_5"
      ]
    },
    {
      "cell_type": "markdown",
      "metadata": {},
      "source": [
        "### This should make more sense now:"
      ]
    },
    {
      "cell_type": "code",
      "execution_count": 57,
      "metadata": {},
      "outputs": [
        {
          "data": {
            "text/plain": [
              "([1, 16, 51, 54, 56], [903, 946, 958, 961, 975])"
            ]
          },
          "execution_count": 57,
          "metadata": {},
          "output_type": "execute_result"
        }
      ],
      "source": [
        "my_sorted_list[ :5], my_sorted_list[-5: ]"
      ]
    },
    {
      "cell_type": "markdown",
      "metadata": {},
      "source": [
        "## Objects"
      ]
    },
    {
      "cell_type": "markdown",
      "metadata": {},
      "source": [
        "### Creating objects"
      ]
    },
    {
      "cell_type": "code",
      "execution_count": 42,
      "metadata": {},
      "outputs": [
        {
          "data": {
            "text/plain": [
              "{'name': 'thiago',\n",
              " 'id': 8114,\n",
              " 'zip': 11001,\n",
              " 'grades': [90, 80, 60],\n",
              " 'attendance': [True, True, False, True, True],\n",
              " 'final grade': 'A'}"
            ]
          },
          "execution_count": 42,
          "metadata": {},
          "output_type": "execute_result"
        }
      ],
      "source": [
        "my_info = {\n",
        "  \"name\": \"thiago\",\n",
        "  \"id\": 8114,\n",
        "  \"zip\": 11001,\n",
        "  \"grades\": [90, 80, 60],\n",
        "  \"attendance\": [True, True, False, True, True],\n",
        "  \"final grade\": \"A\"\n",
        "}\n",
        "my_info"
      ]
    },
    {
      "cell_type": "markdown",
      "metadata": {},
      "source": [
        "### Accessing values at specific keys"
      ]
    },
    {
      "cell_type": "code",
      "execution_count": 43,
      "metadata": {},
      "outputs": [
        {
          "data": {
            "text/plain": [
              "('thiago', [90, 80, 60])"
            ]
          },
          "execution_count": 43,
          "metadata": {},
          "output_type": "execute_result"
        }
      ],
      "source": [
        "my_info[\"name\"], my_info[\"grades\"]"
      ]
    },
    {
      "cell_type": "markdown",
      "metadata": {},
      "source": [
        "### Modifying and Adding values"
      ]
    },
    {
      "cell_type": "code",
      "execution_count": 48,
      "metadata": {},
      "outputs": [
        {
          "data": {
            "text/plain": [
              "{'name': 'thiago',\n",
              " 'id': 8114,\n",
              " 'zip': 11202,\n",
              " 'grades': [90, 80, 60],\n",
              " 'attendance': [True, True, False, True, True],\n",
              " 'final grade': 'A',\n",
              " 'course': 9103,\n",
              " 'section': 'H'}"
            ]
          },
          "execution_count": 48,
          "metadata": {},
          "output_type": "execute_result"
        }
      ],
      "source": [
        "my_info[\"zip\"] = 11202\n",
        "my_info[\"course\"] = 9103\n",
        "my_info[\"section\"] = \"H\"\n",
        "my_info"
      ]
    },
    {
      "cell_type": "markdown",
      "metadata": {},
      "source": [
        "### Iterating over keys, values and items\n",
        "\n",
        "<img src=\"./imgs/objects.jpg\" width=\"500px\" />"
      ]
    },
    {
      "cell_type": "code",
      "execution_count": 50,
      "metadata": {},
      "outputs": [
        {
          "name": "stdout",
          "output_type": "stream",
          "text": [
            "name thiago\n",
            "id 8114\n",
            "zip 11202\n",
            "grades [90, 80, 60]\n",
            "attendance [True, True, False, True, True]\n",
            "final grade A\n",
            "course 9103\n",
            "section H\n"
          ]
        }
      ],
      "source": [
        "# TODO use my_info.keys(), .values() and .items() to print object\n",
        "for k,v in my_info.items():\n",
        "    print(k,v)"
      ]
    },
    {
      "cell_type": "markdown",
      "metadata": {},
      "source": [
        "## List of objects\n",
        "\n",
        "### Create a list of 10 objects with random heights and brooklyn zip codes.\n",
        "\n",
        "```python\n",
        "my_data = [\n",
        "  {\"height\": [60, 70], \"zip\": [11200, 11250]},\n",
        "  {\"height\": [60, 70], \"zip\": [11200, 11250]},\n",
        "  {\"height\": [60, 70], \"zip\": [11200, 11250]},\n",
        "  ...\n",
        "]\n",
        "```"
      ]
    },
    {
      "cell_type": "code",
      "execution_count": 51,
      "metadata": {},
      "outputs": [
        {
          "data": {
            "text/plain": [
              "[{'height': 67, 'zip': 11231},\n",
              " {'height': 68, 'zip': 11220},\n",
              " {'height': 61, 'zip': 11222},\n",
              " {'height': 67, 'zip': 11230},\n",
              " {'height': 65, 'zip': 11235},\n",
              " {'height': 64, 'zip': 11225},\n",
              " {'height': 64, 'zip': 11200},\n",
              " {'height': 70, 'zip': 11240},\n",
              " {'height': 69, 'zip': 11216},\n",
              " {'height': 70, 'zip': 11234}]"
            ]
          },
          "execution_count": 51,
          "metadata": {},
          "output_type": "execute_result"
        }
      ],
      "source": [
        "my_data = []\n",
        "# TODO: create list of random objects\n",
        "for cnt in range(10):\n",
        "    obj = {\n",
        "        \"height\": random.randint(60,70),\n",
        "        \"zip\": random.randint(11200,11250)\n",
        "    }\n",
        "    my_data.append(obj)\n",
        "my_data"
      ]
    },
    {
      "cell_type": "markdown",
      "metadata": {},
      "source": [
        "### Let's add a list of 3 grades for each member of the list and another item with their computed average"
      ]
    },
    {
      "cell_type": "code",
      "execution_count": 52,
      "metadata": {},
      "outputs": [
        {
          "data": {
            "text/plain": [
              "[{'height': 67, 'zip': 11231, 'grades': [94, 93, 71]},\n",
              " {'height': 68, 'zip': 11220, 'grades': [88, 93, 72]},\n",
              " {'height': 61, 'zip': 11222, 'grades': [95, 80, 82]},\n",
              " {'height': 67, 'zip': 11230, 'grades': [72, 94, 83]},\n",
              " {'height': 65, 'zip': 11235, 'grades': [100, 76, 98]},\n",
              " {'height': 64, 'zip': 11225, 'grades': [78, 81, 98]},\n",
              " {'height': 64, 'zip': 11200, 'grades': [99, 93, 95]},\n",
              " {'height': 70, 'zip': 11240, 'grades': [89, 85, 90]},\n",
              " {'height': 69, 'zip': 11216, 'grades': [80, 99, 93]},\n",
              " {'height': 70, 'zip': 11234, 'grades': [95, 74, 71]}]"
            ]
          },
          "execution_count": 52,
          "metadata": {},
          "output_type": "execute_result"
        }
      ],
      "source": [
        "# TODO: first, add grade list to objects\n",
        "\n",
        "for obj in my_data:\n",
        "    obj[\"grades\"] = [random.randint(70,100) for cnt in range(3)]\n",
        "\n",
        "my_data"
      ]
    },
    {
      "cell_type": "markdown",
      "metadata": {},
      "source": [
        "### Average\n",
        "\n",
        "<img src=\"./imgs/average00.jpg\" width=\"500px\" />\n",
        "\n",
        "<img src=\"./imgs/average01.jpg\" width=\"500px\" />"
      ]
    },
    {
      "cell_type": "code",
      "execution_count": 55,
      "metadata": {},
      "outputs": [
        {
          "data": {
            "text/plain": [
              "[{'height': 67, 'zip': 11231, 'grades': [94, 93, 71], 'avg': 86.0},\n",
              " {'height': 68, 'zip': 11220, 'grades': [88, 93, 72], 'avg': 84.3},\n",
              " {'height': 61, 'zip': 11222, 'grades': [95, 80, 82], 'avg': 85.7},\n",
              " {'height': 67, 'zip': 11230, 'grades': [72, 94, 83], 'avg': 83.0},\n",
              " {'height': 65, 'zip': 11235, 'grades': [100, 76, 98], 'avg': 91.3},\n",
              " {'height': 64, 'zip': 11225, 'grades': [78, 81, 98], 'avg': 85.7},\n",
              " {'height': 64, 'zip': 11200, 'grades': [99, 93, 95], 'avg': 95.7},\n",
              " {'height': 70, 'zip': 11240, 'grades': [89, 85, 90], 'avg': 88.0},\n",
              " {'height': 69, 'zip': 11216, 'grades': [80, 99, 93], 'avg': 90.7},\n",
              " {'height': 70, 'zip': 11234, 'grades': [95, 74, 71], 'avg': 80.0}]"
            ]
          },
          "execution_count": 55,
          "metadata": {},
          "output_type": "execute_result"
        }
      ],
      "source": [
        "# TODO: compute and store averages\n",
        "for obj in my_data:\n",
        "    obj[\"avg\"] = round(sum(obj[\"grades\"])/len(obj[\"grades\"]),1)\n",
        "\n",
        "my_data"
      ]
    },
    {
      "cell_type": "markdown",
      "metadata": {},
      "source": [
        "### Get highest and lowest average grades\n",
        "\n",
        "First, get all averages, then sort and get the first and last item on the list, or use `min()`/`max()`"
      ]
    },
    {
      "cell_type": "code",
      "execution_count": 57,
      "metadata": {},
      "outputs": [
        {
          "data": {
            "text/plain": [
              "(80.0, 95.7)"
            ]
          },
          "execution_count": 57,
          "metadata": {},
          "output_type": "execute_result"
        }
      ],
      "source": [
        "averages = []\n",
        "for obj in my_data:\n",
        "    averages.append(obj[\"avg\"])\n",
        "\n",
        "min(averages), max(averages)"
      ]
    },
    {
      "cell_type": "markdown",
      "metadata": {},
      "source": [
        "### Sort by key values\n",
        "\n",
        "For example, sort objects by average grade.\n",
        "\n",
        "We could first get all the average grades and then sort the new list:"
      ]
    },
    {
      "cell_type": "code",
      "execution_count": null,
      "metadata": {},
      "outputs": [],
      "source": [
        "# TODO: get list of avg grades\n",
        "grades = []\n",
        "\n",
        "by_grade = sorted(grades)\n",
        "\n",
        "print(\"original:\\n\", grades)\n",
        "print(\"sorted:\\n\", by_grade)"
      ]
    },
    {
      "cell_type": "code",
      "execution_count": 58,
      "metadata": {},
      "outputs": [
        {
          "name": "stdout",
          "output_type": "stream",
          "text": [
            "[86.0, 84.3, 85.7, 83.0, 91.3, 85.7, 95.7, 88.0, 90.7, 80.0]\n",
            "[80.0, 83.0, 84.3, 85.7, 85.7, 86.0, 88.0, 90.7, 91.3, 95.7]\n"
          ]
        }
      ],
      "source": [
        "by_average = sorted(averages)\n",
        "print(averages)\n",
        "print(by_average)"
      ]
    },
    {
      "cell_type": "markdown",
      "metadata": {},
      "source": [
        "### But now we don't have the other associated information with each grade.\n",
        "\n",
        "We want to sort the list while keeping the objects together.\n",
        "\n",
        "Would be nice to be able to do something like this, just like with a `list`:"
      ]
    },
    {
      "cell_type": "code",
      "execution_count": null,
      "metadata": {},
      "outputs": [],
      "source": [
        "by_grade = sorted(my_data)\n",
        "print(by_grade)"
      ]
    },
    {
      "cell_type": "markdown",
      "metadata": {},
      "source": [
        "### Sorting Objects\n",
        "\n",
        "For lists of objects we have to tell python which values to compare to determine their order.\n",
        "\n",
        "We do this by defining a key function.\n",
        "\n",
        "Key functions receive one argument, that can be an object, a list, a class member, anything... and they return one numerical value.\n",
        "\n",
        "<img src=\"./imgs/list-of-objects.jpg\" width=\"620px\" />"
      ]
    },
    {
      "cell_type": "code",
      "execution_count": 64,
      "metadata": {},
      "outputs": [
        {
          "data": {
            "text/plain": [
              "[{'height': 70, 'zip': 11234, 'grades': [95, 74, 71], 'avg': 80.0},\n",
              " {'height': 67, 'zip': 11230, 'grades': [72, 94, 83], 'avg': 83.0},\n",
              " {'height': 68, 'zip': 11220, 'grades': [88, 93, 72], 'avg': 84.3},\n",
              " {'height': 61, 'zip': 11222, 'grades': [95, 80, 82], 'avg': 85.7},\n",
              " {'height': 64, 'zip': 11225, 'grades': [78, 81, 98], 'avg': 85.7},\n",
              " {'height': 67, 'zip': 11231, 'grades': [94, 93, 71], 'avg': 86.0},\n",
              " {'height': 70, 'zip': 11240, 'grades': [89, 85, 90], 'avg': 88.0},\n",
              " {'height': 69, 'zip': 11216, 'grades': [80, 99, 93], 'avg': 90.7},\n",
              " {'height': 65, 'zip': 11235, 'grades': [100, 76, 98], 'avg': 91.3},\n",
              " {'height': 64, 'zip': 11200, 'grades': [99, 93, 95], 'avg': 95.7}]"
            ]
          },
          "execution_count": 64,
          "metadata": {},
          "output_type": "execute_result"
        }
      ],
      "source": [
        "# this key function receives a student-info object with {height, grade, zip, etc}\n",
        "# and should return just the average grade value\n",
        "def gradeKey(A):\n",
        "  return A[\"avg\"]\n",
        "\n",
        "# then we can just use it when we call sorted()\n",
        "by_grade = sorted(my_data, key=gradeKey)\n",
        "\n",
        "by_grade"
      ]
    },
    {
      "cell_type": "code",
      "execution_count": 60,
      "metadata": {},
      "outputs": [
        {
          "data": {
            "text/plain": [
              "[{'height': 67, 'zip': 11230, 'grades': [72, 94, 83], 'avg': 83.0},\n",
              " {'height': 64, 'zip': 11225, 'grades': [78, 81, 98], 'avg': 85.7},\n",
              " {'height': 69, 'zip': 11216, 'grades': [80, 99, 93], 'avg': 90.7},\n",
              " {'height': 68, 'zip': 11220, 'grades': [88, 93, 72], 'avg': 84.3},\n",
              " {'height': 70, 'zip': 11240, 'grades': [89, 85, 90], 'avg': 88.0},\n",
              " {'height': 67, 'zip': 11231, 'grades': [94, 93, 71], 'avg': 86.0},\n",
              " {'height': 61, 'zip': 11222, 'grades': [95, 80, 82], 'avg': 85.7},\n",
              " {'height': 70, 'zip': 11234, 'grades': [95, 74, 71], 'avg': 80.0},\n",
              " {'height': 64, 'zip': 11200, 'grades': [99, 93, 95], 'avg': 95.7},\n",
              " {'height': 65, 'zip': 11235, 'grades': [100, 76, 98], 'avg': 91.3}]"
            ]
          },
          "execution_count": 60,
          "metadata": {},
          "output_type": "execute_result"
        }
      ],
      "source": [
        "# TODO: sort by first assignment grade\n",
        "def hw01Key(A):\n",
        "  return A[\"grades\"][0]\n",
        "\n",
        "by_hw01 = sorted(my_data, key=hw01Key)\n",
        "\n",
        "by_hw01"
      ]
    },
    {
      "cell_type": "markdown",
      "metadata": {},
      "source": [
        "### `min()`/`max()` functions also work with a `key` argument:"
      ]
    },
    {
      "cell_type": "code",
      "execution_count": 65,
      "metadata": {},
      "outputs": [
        {
          "name": "stdout",
          "output_type": "stream",
          "text": [
            "{'height': 64, 'zip': 11200, 'grades': [99, 93, 95], 'avg': 95.7}\n",
            "{'height': 67, 'zip': 11230, 'grades': [72, 94, 83], 'avg': 83.0}\n"
          ]
        }
      ],
      "source": [
        "# student with highest average grade\n",
        "max_by_grade = max(my_data, key=gradeKey)\n",
        "\n",
        "# student with lowest score on first assignment\n",
        "min_by_hw01 = min(my_data, key=hw01Key)\n",
        "\n",
        "print(max_by_grade)\n",
        "print(min_by_hw01)"
      ]
    },
    {
      "cell_type": "markdown",
      "metadata": {},
      "source": [
        "## Bigger Lists"
      ]
    },
    {
      "cell_type": "markdown",
      "metadata": {},
      "source": [
        "## Setup\n",
        "\n",
        "Include some helper functions and libraries"
      ]
    },
    {
      "cell_type": "code",
      "execution_count": 66,
      "metadata": {},
      "outputs": [
        {
          "name": "stdout",
          "output_type": "stream",
          "text": [
            "zsh:1: command not found: wget\n"
          ]
        }
      ],
      "source": [
        "!wget -q https://github.com/DM-GY-9103-2024F-H/9103-utils/raw/main/src/data_utils.py"
      ]
    },
    {
      "cell_type": "code",
      "execution_count": null,
      "metadata": {},
      "outputs": [],
      "source": [
        "import matplotlib.pyplot as plt\n",
        "\n",
        "from data_utils import object_from_json_url"
      ]
    },
    {
      "cell_type": "markdown",
      "metadata": {},
      "source": [
        "### Load ANSUR 2 Databse\n",
        "\n",
        "The `JSON` file has a subset of the measurements found [here](https://www.openlab.psu.edu/ansur2/)."
      ]
    },
    {
      "cell_type": "code",
      "execution_count": null,
      "metadata": {},
      "outputs": [],
      "source": [
        "ANSUR_JSON_URL = \"https://raw.githubusercontent.com/DM-GY-9103-2024F-H/9103-utils/main/datasets/json/ansur.json\"\n",
        "ansur = object_from_json_url(ANSUR_JSON_URL)\n",
        "\n",
        "# TODO: look at the data\n",
        "\n",
        "# Answer:\n",
        "#   - how many rows/records/items ?\n",
        "#   - tallest height ?\n",
        "#   - longest ear ?\n",
        "#   - average ear length ?\n"
      ]
    },
    {
      "cell_type": "markdown",
      "metadata": {},
      "source": [
        "### Let's look at a simpler versions:"
      ]
    },
    {
      "cell_type": "code",
      "execution_count": null,
      "metadata": {},
      "outputs": [],
      "source": [
        "AHW_JSON_URL = \"https://raw.githubusercontent.com/DM-GY-9103-2024F-H/9103-utils/main/datasets/json/ansur_age_height_weight_object.json\"\n",
        "ahw_objs = object_from_json_url(AHW_JSON_URL)\n",
        "\n",
        "# TODO: look at data\n",
        "# How is it organized ?"
      ]
    },
    {
      "cell_type": "code",
      "execution_count": null,
      "metadata": {},
      "outputs": [],
      "source": [
        "AHW_LIST_URL = \"https://raw.githubusercontent.com/DM-GY-9103-2024F-H/9103-utils/main/datasets/json/ansur_age_height_weight.json\"\n",
        "ahws = object_from_json_url(AHW_LIST_URL)\n",
        "\n",
        "# TODO: look at data\n",
        "# How is it organized ?\n",
        "\n",
        "# Answer the following:\n",
        "#   - how many items ?\n",
        "#   - how do we access the height of a person ?"
      ]
    },
    {
      "cell_type": "markdown",
      "metadata": {},
      "source": [
        "## List of Lists\n",
        "\n",
        "Just like we can put lists inside objects, and objects inside lists, we can also put lists inside lists.\n",
        "\n",
        "If we want to get to a particular value we have to use $2$ indices instead of using just one:\n",
        "`list[i][j]`\n",
        "\n",
        "The first index tells Python which of the sub-lists we want, and the second specifies the item on that list.\n",
        "\n",
        "<img src=\"./imgs/list-of-lists00.jpg\" width=\"700px\" />\n",
        "\n",
        "<img src=\"./imgs/list-of-lists01.jpg\" width=\"700px\" />\n",
        "\n",
        "Sometimes we'll refer to the first index as the row index and the second index as the column index.\n",
        "\n",
        "That's because if we imagine our list of lists as a 2-dimensional matrix of numbers, the first index tells Python which row we want to access and the second tells which column:\n",
        "\n",
        "<img src=\"./imgs/list-of-lists02.jpg\" width=\"700px\" />\n",
        "\n",
        "<img src=\"./imgs/list-of-lists03.jpg\" width=\"700px\" />"
      ]
    },
    {
      "cell_type": "markdown",
      "metadata": {},
      "source": [
        "### Datasets\n",
        "\n",
        "We'll see this kind of structure a lot.\n",
        "\n",
        "It's very common for datasets to be organized by rows/columns, where each column specifies a different *property* (or *feature*) and each row is a different *measurement* (or *record*) of those features.\n",
        "\n",
        "In our example above, our dataset had $3$ *features* (age, height, weight), and one *record* per person.\n",
        "\n",
        "<img src=\"./imgs/datasets00.jpg\" width=\"700px\" />"
      ]
    },
    {
      "cell_type": "markdown",
      "metadata": {},
      "source": [
        "### JSON\n",
        "\n",
        "It's also common to find datasets specified in the JSON format.\n",
        "\n",
        "Instead of just being a list of lists with values, each *record* is an object that specifies the names and values of its *features*:\n",
        "\n",
        "<img src=\"./imgs/datasets01.jpg\" width=\"700px\" />\n",
        "\n",
        "There are advantages and disadvantages to each. We'll soon look at another way to organize datasets that will make it easier to go from one type to the other if we have to."
      ]
    },
    {
      "cell_type": "markdown",
      "metadata": {},
      "source": [
        "## Plots\n",
        "\n",
        "We can use the [matplot](https://matplotlib.org/stable/api/pyplot_summary.html) library to visualize our data."
      ]
    },
    {
      "cell_type": "code",
      "execution_count": null,
      "metadata": {},
      "outputs": [],
      "source": [
        "# TODO: get heights\n",
        "heights = []\n",
        "\n",
        "plt.plot(heights, 'bo', markersize=2)\n",
        "plt.show()"
      ]
    },
    {
      "cell_type": "code",
      "execution_count": null,
      "metadata": {},
      "outputs": [],
      "source": [
        "# TODO: get weights\n",
        "weights = []\n",
        "\n",
        "plt.plot(weights, 'ro', markersize=2)\n",
        "plt.show()"
      ]
    },
    {
      "cell_type": "code",
      "execution_count": null,
      "metadata": {},
      "outputs": [],
      "source": [
        "# TODO: plot ages in green\n",
        "ages = []"
      ]
    },
    {
      "cell_type": "markdown",
      "metadata": {},
      "source": [
        "### Sorting data can give a different perspective"
      ]
    },
    {
      "cell_type": "code",
      "execution_count": null,
      "metadata": {},
      "outputs": [],
      "source": [
        "sorted_heights = sorted(heights)\n",
        "plt.plot(sorted_heights, 'bo', markersize=2)\n",
        "plt.show()"
      ]
    },
    {
      "cell_type": "markdown",
      "metadata": {},
      "source": [
        "### Histograms"
      ]
    },
    {
      "cell_type": "code",
      "execution_count": null,
      "metadata": {},
      "outputs": [],
      "source": [
        "min_height = min(heights)\n",
        "max_height = max(heights)\n",
        "plt.hist(heights, bins=range(min_height, max_height + 1))\n",
        "plt.grid()\n",
        "plt.show()"
      ]
    },
    {
      "cell_type": "markdown",
      "metadata": {},
      "source": [
        "## Correlation\n",
        "\n",
        "Measurement of how $2$ independent variables (features) are related to each other.\n",
        "\n",
        "<img src=\"./imgs/correlation.jpg\" width=\"800px\" />\n",
        "\n",
        "They can have *positive* or *direct* correlation, if an increase in one of the variables comes with an increase in the other.\n",
        "\n",
        "They can have *negative* or *inverse* correlation if an increase in one of the variables is accompanied by a decrease in the other.\n",
        "\n",
        "Or, there can be *weak* or *NO* correlation, if a change in one variable doesn't seem to be accompanied by a change in the other."
      ]
    },
    {
      "cell_type": "code",
      "execution_count": null,
      "metadata": {},
      "outputs": [],
      "source": [
        "# use \"column\" lists from above to plot scatter plot\n",
        "plt.scatter(ages, heights, marker='o', alpha=0.2)\n",
        "plt.xlabel(\"age\")\n",
        "plt.ylabel(\"height\")\n",
        "plt.show()"
      ]
    },
    {
      "cell_type": "code",
      "execution_count": null,
      "metadata": {},
      "outputs": [],
      "source": [
        "# TODO plot other combinations of variables\n",
        "# TODO: any correlation ?"
      ]
    }
  ],
  "metadata": {
    "colab": {
      "authorship_tag": "ABX9TyMhuytAcbldogywX05phpmj",
      "provenance": []
    },
    "kernelspec": {
      "display_name": "Python 3",
      "name": "python3"
    },
    "language_info": {
      "codemirror_mode": {
        "name": "ipython",
        "version": 3
      },
      "file_extension": ".py",
      "mimetype": "text/x-python",
      "name": "python",
      "nbconvert_exporter": "python",
      "pygments_lexer": "ipython3",
      "version": "3.11.7"
    }
  },
  "nbformat": 4,
  "nbformat_minor": 0
}
